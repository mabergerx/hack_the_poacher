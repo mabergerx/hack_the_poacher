{
 "cells": [
  {
   "cell_type": "code",
   "execution_count": 9,
   "metadata": {},
   "outputs": [],
   "source": [
    "import numpy as np\n",
    "from random import uniform\n",
    "\n",
    "dy = [0,1,1,1]\n",
    "dx = [-1,-1,0,1]\n",
    "\n",
    "\n",
    "def generate_map(args):\n",
    "    np.random.seed(args.ani_den_seed)\n",
    "    if args.map_type == 'random':\n",
    "        animal_density = np.random.uniform(low=0.2, high=1., size=[args.row_num, args.column_num])\n",
    "        corners = [(0,0), (0, args.column_num - 1), (args.row_num - 1, 0), (args.row_num-1, args.column_num-1)]\n",
    "        near_corners_1 = [(0,1),(1,0),(0, args.column_num-2), (1, args.column_num-1), (args.row_num-2, 0),\n",
    "                (args.row_num-1,1), (args.row_num-1, args.column_num-2), (args.row_num-2, args.column_num-1)]\n",
    "        near_corners_2 = [(0,2), (2,0),(1,1), \n",
    "                (0, args.column_num-3), (2, args.column_num-1), (1, args.column_num-2),\n",
    "                (args.row_num-3, 0), (args.row_num-1,2), (args.row_num - 2, 1), \n",
    "                (args.row_num-1, args.column_num-3), (args.row_num-3, args.column_num-1), (args.row_num - 2, args.column_num -2)]\n",
    "        for x in corners:\n",
    "            animal_density[x] = np.clip(animal_density[x], a_min = None, a_max = 0.28)\n",
    "        if args.row_num >= 5:\n",
    "            for x in near_corners_1:\n",
    "                animal_density[x] = np.clip(animal_density[x], a_min = None, a_max = 0.42)  \n",
    "        return animal_density\n",
    "    elif args.map_type == 'gauss':\n",
    "        animal_density = Mountainmap(args.row_num, args.column_num, args.ani_den_seed)\n",
    "        return animal_density\n",
    "    elif args.map_type == 'poacher':\n",
    "        \n",
    "        if args.row_num == 7:\n",
    "            ad = np.zeros([args.row_num, args.column_num])\n",
    "            obstacles = [(0,3), (1,0), (1,1), (1,6), (2,4), (2,5), (2,6), (3,2), (3,6), (4,0), (4,1), (5,4), (5,6), (6,2)]\n",
    "            potentials = [(0,1), (1,4), (1,5), (2,2), (2,3), (3,5), (4,2), (4,3), (4,6), (5,1), (5,3), (5,5)]\n",
    "            \n",
    "        if args.row_num_num == 10:\n",
    "            ad = np.zeros([args.row_num, args.column_num])\n",
    "            obstacles = [(0, 5), (0, 8), (1, 2), (1, 3), (2, 0), (2, 1), (2, 2), (2, 7), (2, 8), (2, 9), (3, 9), (4, 0),\n",
    "                         (4, 4), (4, 7), (4, 8), (4, 9), (5, 9), (6, 0), (6, 1), (6, 2), (6, 3), (6, 9), (7, 0), (7, 6),\n",
    "                         (8, 0), (8, 9), (9, 4)]\n",
    "            potentials = [(0, 1), (0, 2), (0, 4), (0, 9), (1, 0), (1, 5), (1, 7), (1, 9), (2, 3), (2, 6), (3, 0), (3, 1),\n",
    "                          (3, 3), (3, 5), (3, 6), (3, 8), (4, 3), (4, 6), (5, 0), (5, 1), (5, 3), (5, 4), (5, 5), (5, 7),\n",
    "                          (5, 8), (6, 5), (6, 6), (6, 7), (7, 2), (7, 3), (7, 5), (7, 9), (8, 4), (8, 5), (8, 7), (8, 8), (9, 3),\n",
    "                          (9, 5), (9, 6), (9, 9)]\n",
    "        \n",
    "        for i in range(ad.shape[0]):\n",
    "            for x in range(ad.shape[1]):\n",
    "                index = (i,x)\n",
    "                if index in obstacles:\n",
    "                    ad[i,x] = -1\n",
    "                elif index in potentials:\n",
    "                    ad[i,x] = uniform(0.3, 0.6)\n",
    "                else:\n",
    "                    ad[i,x] = uniform(0.1, 0.2)\n",
    "        animal_density = ad\n",
    "        return animal_density"
   ]
  },
  {
   "cell_type": "code",
   "execution_count": 7,
   "metadata": {},
   "outputs": [],
   "source": [
    "obstacles = [(0, 5), (0, 8), (1, 2), (1, 3), (2, 0), (2, 1), (2, 2), (2, 7), (2, 8), (2, 9), (3, 9), (4, 0),\n",
    "                     (4, 4), (4, 7), (4, 8), (4, 9), (5, 9), (6, 0), (6, 1), (6, 2), (6, 3), (6, 9), (7, 0), (7, 6),\n",
    "                     (8, 0), (8, 9), (9, 4)]\n",
    "potentials = [(0, 1), (0, 2), (0, 4), (0, 9), (1, 0), (1, 5), (1, 7), (1, 9), (2, 3), (2, 6), (3, 0), (3, 1),\n",
    "                      (3, 3), (3, 5), (3, 6), (3, 8), (4, 3), (4, 6), (5, 0), (5, 1), (5, 3), (5, 4), (5, 5), (5, 7),\n",
    "                      (5, 8), (6, 5), (6, 6), (6, 7), (7, 2), (7, 3), (7, 5), (7, 9), (8, 4), (8, 5), (8, 7), (8, 8), (9, 3),\n",
    "                      (9, 5), (9, 6), (9, 9)]"
   ]
  },
  {
   "cell_type": "code",
   "execution_count": 10,
   "metadata": {},
   "outputs": [
    {
     "name": "stdout",
     "output_type": "stream",
     "text": [
      "0.45460539096734576\n",
      "0.5014524134747863\n",
      "0.5557320249515803\n",
      "0.5489059247331355\n",
      "0.44571482190868655\n",
      "0.43984305605834695\n",
      "0.5068509836812807\n",
      "0.5730580234574347\n",
      "0.5487629151352353\n",
      "0.4601739994492203\n"
     ]
    }
   ],
   "source": [
    "for x in range(10):\n",
    "    print(uniform(0.4, 0.6))"
   ]
  },
  {
   "cell_type": "code",
   "execution_count": null,
   "metadata": {},
   "outputs": [],
   "source": []
  }
 ],
 "metadata": {
  "kernelspec": {
   "display_name": "Python 3",
   "language": "python",
   "name": "python3"
  },
  "language_info": {
   "codemirror_mode": {
    "name": "ipython",
    "version": 3
   },
   "file_extension": ".py",
   "mimetype": "text/x-python",
   "name": "python",
   "nbconvert_exporter": "python",
   "pygments_lexer": "ipython3",
   "version": "3.7.4"
  }
 },
 "nbformat": 4,
 "nbformat_minor": 2
}
